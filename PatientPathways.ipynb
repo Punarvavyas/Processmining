{
 "cells": [
  {
   "cell_type": "code",
   "execution_count": null,
   "metadata": {},
   "outputs": [],
   "source": [
    "import pandas as pd\n",
    "import numpy as np\n",
    "from datetime import date\n",
    "from IPython.display import Markdown, display\n",
    "import matplotlib.pyplot as plt\n",
    "import seaborn as sns\n"
   ]
  },
  {
   "cell_type": "code",
   "execution_count": null,
   "metadata": {},
   "outputs": [],
   "source": [
    "def printmd(string):\n",
    "    display(Markdown(string))\n"
   ]
  },
  {
   "cell_type": "code",
   "execution_count": null,
   "metadata": {},
   "outputs": [],
   "source": [
    "fn = 'ArtificialPatientTreatment.csv'\n",
    "events = pd.read_csv(fn)\n",
    "\n",
    "events.columns = ['patient', 'action', 'resource', 'datetime']\n",
    "events['datetime'] = pd.to_datetime(events['datetime'])\n",
    "events.head()\n"
   ]
  },
  {
   "cell_type": "code",
   "execution_count": null,
   "metadata": {},
   "outputs": [],
   "source": [
    "print('{} has {} rows and {} columns.'.format(fn, events.shape[0], events.shape[1]))\n"
   ]
  },
  {
   "cell_type": "code",
   "execution_count": null,
   "metadata": {},
   "outputs": [],
   "source": [
    "## Get the case start times to get the time deltas for the 'age' of each activity with respect to start\n",
    "case_starts_ends = events.pivot_table(index='patient', aggfunc={'datetime': ['min', 'max']})\n",
    "case_starts_ends = case_starts_ends.reset_index()\n",
    "case_starts_ends.columns = ['patient', 'caseend', 'casestart']\n",
    "events = events.merge(case_starts_ends, on='patient')\n",
    "events['relativetime'] = events['datetime'] - events['casestart']\n",
    "events.head()"
   ]
  },
  {
   "cell_type": "code",
   "execution_count": null,
   "metadata": {},
   "outputs": [],
   "source": [
    "events['action'] = events['action'].apply(lambda x: x.strip())"
   ]
  },
  {
   "cell_type": "code",
   "execution_count": null,
   "metadata": {},
   "outputs": [],
   "source": [
    "delimiter = '___'\n",
    "\n",
    "makeEventString = lambda x: delimiter.join(x)\n",
    "makeEventString.__name__ = 'makeEventString'\n",
    "\n",
    "numEvents = lambda x: len(x)\n",
    "numEvents.__name__ = 'numEvents'\n",
    "\n",
    "\n",
    "caselogs = events.pivot_table(index='patient', aggfunc={'action': [makeEventString, numEvents]})\n",
    "caselogs = caselogs.reset_index()\n",
    "caselogs.columns = ['patient', 'action_sequence', 'numactions']\n",
    "\n",
    "events = pd.merge(events, caselogs, on='patient')\n",
    "events['caselength'] = events['caseend'] - events['casestart']\n",
    "\n",
    "events.head()\n"
   ]
  },
  {
   "cell_type": "code",
   "execution_count": null,
   "metadata": {},
   "outputs": [],
   "source": [
    "## Get day of week\n",
    "events['weekday'] = events['datetime'].apply(lambda x: x.weekday())\n",
    "events['date'] = events['datetime'].apply(lambda x: x.date())\n",
    "events['startdate'] = events['casestart'].apply(lambda x: x.date())\n",
    "events['hour'] = events['datetime'].apply(lambda x: x.time().hour)\n",
    "## Get relative times in more friendly terms\n",
    "events['relativetime_s'] = events['relativetime'].dt.seconds + 86400*events['relativetime'].dt.days\n",
    "events['relativedays'] = events['relativetime'].dt.days\n",
    "\n"
   ]
  },
  {
   "cell_type": "code",
   "execution_count": null,
   "metadata": {},
   "outputs": [],
   "source": [
    "events.head()"
   ]
  },
  {
   "cell_type": "code",
   "execution_count": null,
   "metadata": {},
   "outputs": [],
   "source": []
  },
  {
   "cell_type": "markdown",
   "metadata": {},
   "source": [
    "# Questions"
   ]
  },
  {
   "cell_type": "markdown",
   "metadata": {},
   "source": [
    "## What is the minimum number of events per case?"
   ]
  },
  {
   "cell_type": "code",
   "execution_count": null,
   "metadata": {},
   "outputs": [],
   "source": [
    "printmd('**Minimum number of events per case**: {}'.format(min(events['patient'].value_counts())))"
   ]
  },
  {
   "cell_type": "markdown",
   "metadata": {},
   "source": [
    "## Patient 26\n",
    "* Which doctor did s/he have his/her consultation with?\n",
    "* Which doctor did s/he have his/her consultation with?"
   ]
  },
  {
   "cell_type": "code",
   "execution_count": null,
   "metadata": {},
   "outputs": [],
   "source": [
    "first_doctor = events[events['datetime']==min(events[events['patient']=='patient 26']['datetime'])]['resource'].values[0]\n",
    "last_doctor = events[events['datetime']==max(events[events['patient']=='patient 26']['datetime'])]['resource'].values[0]\n",
    "printmd('**First doctor**: {}'.format(first_doctor))\n",
    "printmd('**Last doctor**: {}'.format(last_doctor))\n"
   ]
  },
  {
   "cell_type": "markdown",
   "metadata": {},
   "source": [
    "## Which activity has the lowest occurrence overall in the event log?"
   ]
  },
  {
   "cell_type": "code",
   "execution_count": null,
   "metadata": {},
   "outputs": [],
   "source": [
    "printmd('**Activity with lowest occurrence**: {}'.format(events['action'].value_counts().sort_values().idxmin()))"
   ]
  },
  {
   "cell_type": "markdown",
   "metadata": {},
   "source": [
    "# Visualisations"
   ]
  },
  {
   "cell_type": "code",
   "execution_count": null,
   "metadata": {},
   "outputs": [],
   "source": [
    "\n",
    "activities = list(events['action'].unique())\n",
    "markers = ['*', '+', 'h', 'o', 'x', 'D', '^', 'v']\n",
    "assert(len(activities)==len(markers))\n"
   ]
  },
  {
   "cell_type": "code",
   "execution_count": null,
   "metadata": {},
   "outputs": [],
   "source": [
    "patients = events['patient'].unique()\n",
    "selected_patients = patients[0:50]\n",
    "patientX = events[events['patient'].isin(selected_patients)]\n",
    "\n"
   ]
  },
  {
   "cell_type": "markdown",
   "metadata": {},
   "source": [
    "## Simple scatter plots"
   ]
  },
  {
   "cell_type": "markdown",
   "metadata": {},
   "source": [
    "### Date"
   ]
  },
  {
   "cell_type": "code",
   "execution_count": null,
   "metadata": {},
   "outputs": [],
   "source": [
    "patientnums = [int(e) for e in events['patient'].apply(lambda x: x.strip('patient'))]\n",
    "resourcenums = [i for (i, e) in enumerate(events['resource'])]\n",
    "\n",
    "ax = sns.scatterplot(x=events['datetime'], y=events['patient'], hue=events['action'])\n",
    "plt.yticks(np.arange(min(patientnums), max(patientnums)+1, 5));"
   ]
  },
  {
   "cell_type": "code",
   "execution_count": null,
   "metadata": {},
   "outputs": [],
   "source": [
    "ax = sns.scatterplot(x=events['datetime'], y=events['resource'], hue=events['action'])"
   ]
  },
  {
   "cell_type": "markdown",
   "metadata": {},
   "source": [
    "### Weekday"
   ]
  },
  {
   "cell_type": "code",
   "execution_count": null,
   "metadata": {},
   "outputs": [],
   "source": [
    "ax = sns.stripplot(x=events['weekday'], y=patientnums, hue=events['action'], jitter=0.2)\n",
    "#plt.yticks(np.arange(min(patientnums), max(patientnums)+1, 5));"
   ]
  },
  {
   "cell_type": "code",
   "execution_count": null,
   "metadata": {},
   "outputs": [],
   "source": [
    "ax = sns.stripplot(x=events['weekday'], y=resourcenums, hue=events['action'], jitter=0.2)"
   ]
  },
  {
   "cell_type": "markdown",
   "metadata": {},
   "source": [
    "### Hour"
   ]
  },
  {
   "cell_type": "code",
   "execution_count": null,
   "metadata": {},
   "outputs": [],
   "source": [
    "ax = sns.stripplot(x=events['hour'], y=patientnums, hue=events['action'], jitter=0.2)\n"
   ]
  },
  {
   "cell_type": "code",
   "execution_count": null,
   "metadata": {},
   "outputs": [],
   "source": [
    "ax = sns.stripplot(x=events['hour'], y=resourcenums, hue=events['action'], jitter=0.2)"
   ]
  },
  {
   "cell_type": "markdown",
   "metadata": {},
   "source": [
    "### Relative time \n",
    "Time since start of case"
   ]
  },
  {
   "cell_type": "code",
   "execution_count": null,
   "metadata": {},
   "outputs": [],
   "source": [
    "## Time in seconds\n",
    "#ax = sns.scatterplot(x=events['relativetime'].dt.seconds, y=events['patient'], hue=events['action'])\n",
    "#plt.yticks(np.arange(min(patientnums), max(patientnums)+1, 5));\n",
    "\n",
    "## Time in hours\n",
    "ax = sns.scatterplot(x=events['relativetime_s'], y=events['patient'], hue=events['action'])\n",
    "plt.yticks(np.arange(min(patientnums), max(patientnums)+1, 5));\n"
   ]
  },
  {
   "cell_type": "code",
   "execution_count": null,
   "metadata": {},
   "outputs": [],
   "source": [
    "ordered = events.sort_values(by=['caselength', 'patient', 'relativetime_s'])"
   ]
  },
  {
   "cell_type": "code",
   "execution_count": null,
   "metadata": {
    "scrolled": false
   },
   "outputs": [],
   "source": [
    "## Time in seconds\n",
    "ax = sns.scatterplot(x=ordered['relativetime_s'], y=ordered['patient'], hue=ordered['action'])\n",
    "plt.yticks(np.arange(min(patientnums), max(patientnums)+1, 5));\n",
    "plt.show()\n"
   ]
  },
  {
   "cell_type": "code",
   "execution_count": null,
   "metadata": {},
   "outputs": [],
   "source": [
    "## Resources\n",
    "ax = sns.scatterplot(x=ordered['relativetime_s'], y=ordered['resource'], hue=ordered['action'])\n",
    "plt.show()\n"
   ]
  },
  {
   "cell_type": "code",
   "execution_count": null,
   "metadata": {},
   "outputs": [],
   "source": [
    "#pd.crosstab(events['action'], events['resource'])\n",
    "pd.crosstab(events['action'], events['resource'], normalize='columns')\n",
    "#pd.crosstab(events['action'], events['resource'], normalize='index')"
   ]
  },
  {
   "cell_type": "markdown",
   "metadata": {},
   "source": [
    "### Relative day"
   ]
  },
  {
   "cell_type": "code",
   "execution_count": null,
   "metadata": {},
   "outputs": [],
   "source": [
    "## Days\n",
    "ax = sns.stripplot(x=ordered['relativedays'], y=ordered['patient'], hue=ordered['action'])\n",
    "plt.yticks(np.arange(min(patientnums), max(patientnums)+1, 5));\n",
    "plt.show()\n"
   ]
  },
  {
   "cell_type": "markdown",
   "metadata": {},
   "source": [
    "## Discrete event plot\n",
    "* y-axis represents each patient case.\n",
    "* x-axis represents time since case was initiated.\n",
    "* Different marker shapes represent different types of cases."
   ]
  },
  {
   "cell_type": "code",
   "execution_count": null,
   "metadata": {},
   "outputs": [],
   "source": [
    "## Widget libraries\n",
    "from ipywidgets import widgets\n",
    "from ipywidgets import interact, interact_manual\n",
    "\n",
    "patients = events['patient'].unique()\n",
    "\n",
    "@interact\n",
    "def getCaseData(x=patients):\n",
    "    return events[events['patient']==x]\n",
    "\n"
   ]
  },
  {
   "cell_type": "code",
   "execution_count": null,
   "metadata": {},
   "outputs": [],
   "source": [
    "patientX = getCaseData(patients[10])"
   ]
  },
  {
   "cell_type": "code",
   "execution_count": null,
   "metadata": {},
   "outputs": [],
   "source": [
    "def getEventPlot(patientlist=[patients[10], patients[21]]):\n",
    "    fig, ax = plt.subplots(figsize=(20, 5))\n",
    "    \n",
    "    for x in patientlist:\n",
    "        patientX = getCaseData(x)\n",
    "        \n",
    "    \n",
    "        for i in range(0, len(activities)):\n",
    "            a = activities[i]\n",
    "            marker = markers[i]\n",
    "            selected = patientX[patientX['action']==a]\n",
    "            ax.plot(selected['relativetime_s'], \n",
    "                selected['patient'],\n",
    "                marker=marker, markersize=11,\n",
    "                alpha=0.9, color='blue', linewidth=0, \n",
    "                label=a);\n",
    "    plt.show()\n",
    "\n",
    "getEventPlot()\n"
   ]
  },
  {
   "cell_type": "markdown",
   "metadata": {},
   "source": [
    "## Most frequent event sequence"
   ]
  },
  {
   "cell_type": "code",
   "execution_count": null,
   "metadata": {},
   "outputs": [],
   "source": [
    "most_frequent_event = events['action_sequence'].value_counts().idxmax()\n",
    "\n",
    "\n",
    "printmd('**The most frequent event (sequence) has** {} **activities.**'.format(len(most_frequent_event.split(delimiter))))\n",
    "printmd('**The activity sequence is**:  {}.'.format(', '.join(most_frequent_event.split(delimiter))))"
   ]
  },
  {
   "cell_type": "markdown",
   "metadata": {},
   "source": [
    "## Filtering events"
   ]
  },
  {
   "cell_type": "markdown",
   "metadata": {},
   "source": [
    "### Removing events that all patients share"
   ]
  },
  {
   "cell_type": "code",
   "execution_count": null,
   "metadata": {},
   "outputs": [],
   "source": [
    "## Visualise which events are common to patients\n",
    "patient_events = pd.crosstab(events['patient'], events['action'])\n",
    "sns.heatmap(patient_events, cmap=\"YlGnBu\")\n",
    "\n",
    "nunique = patient_events.apply(pd.Series.nunique)\n",
    "shared_actions = nunique[nunique==1].index\n",
    "actions_to_keep = nunique[nunique>1].index\n",
    "printmd('**The following actions are common to all cases**: {}'.format(', '.join(shared_actions)))\n",
    "printmd('**The following actions are the ones that we wish to keep (not common to all cases)**: {}'.format(', '.join(actions_to_keep)))\n"
   ]
  },
  {
   "cell_type": "code",
   "execution_count": null,
   "metadata": {},
   "outputs": [],
   "source": [
    "#filtered = events[events['action']=='X-ray scan']\n",
    "filtered = events[events['action'].isin(actions_to_keep)]\n",
    "printmd('**The filtered data has** {} **rows and** {} **columns.**'.format(filtered.shape[0], filtered.shape[1]))\n",
    "\n",
    "filtered = filtered[filtered['action']!='X-ray scan']\n",
    "printmd('**The filtered data excluding X-rays has** {} **rows and** {} **columns.**'.format(filtered.shape[0], filtered.shape[1]))\n",
    "\n",
    "filtered = filtered[~filtered['resource'].isin([' Team 1', ' Team 2'])]\n",
    "printmd('**The filtered data excluding team 1 and team 2 has** {} **rows and** {} **columns.**'.format(filtered.shape[0], filtered.shape[1]))\n",
    "\n",
    "patient_events = pd.crosstab(filtered['patient'], filtered['action'])\n",
    "#sns.heatmap(patient_events, cmap=\"YlGnBu\")"
   ]
  },
  {
   "cell_type": "code",
   "execution_count": null,
   "metadata": {},
   "outputs": [],
   "source": [
    "printmd('**The filtered data has** {} **rows and** {} **columns.**'.format(filtered.shape[0], filtered.shape[1]))\n",
    "printmd('**This amounts to** {} **cases with** {} **distinct actions.**'.format(patient_events.shape[0], patient_events.shape[1]))\n",
    "printmd('**There are** {} **events.**'.format(np.sum(np.array(patient_events))))"
   ]
  },
  {
   "cell_type": "markdown",
   "metadata": {},
   "source": [
    "## Process Mining\n",
    "* Check out this [introduction to process mining in Python](https://towardsdatascience.com/introduction-to-process-mining-5f4ce985b7e5).\n",
    "* [Documentation for pm4py](https://pm4py.fit.fraunhofer.de/)"
   ]
  },
  {
   "cell_type": "code",
   "execution_count": null,
   "metadata": {},
   "outputs": [],
   "source": [
    "#!pip install pm4py --user\n",
    "from pm4py.objects.conversion.log import converter as log_converter\n",
    "from pm4py.objects.log.importer.xes import importer as xes_importer\n",
    "\n",
    "# process mining \n",
    "from pm4py.algo.discovery.alpha import algorithm as alpha_miner\n",
    "from pm4py.algo.discovery.inductive import algorithm as inductive_miner\n",
    "from pm4py.algo.discovery.heuristics import algorithm as heuristics_miner\n",
    "from pm4py.algo.discovery.dfg import algorithm as dfg_discovery\n",
    "\n",
    "# viz\n",
    "from pm4py.visualization.petrinet import visualizer as pn_visualizer\n",
    "from pm4py.visualization.process_tree import visualizer as pt_visualizer\n",
    "from pm4py.visualization.heuristics_net import visualizer as hn_visualizer\n",
    "from pm4py.visualization.dfg import visualizer as dfg_visualization\n",
    "\n",
    "# misc \n",
    "from pm4py.objects.conversion.process_tree import converter as pt_converter"
   ]
  },
  {
   "cell_type": "code",
   "execution_count": null,
   "metadata": {},
   "outputs": [],
   "source": [
    "eventlog = events.copy()\n",
    "### Specify which columns correspond to case (case:concept:name), \n",
    "###event (concept:name) and timestamp (time:timestamp) - rename columns in accordance\n",
    "###with pm4py\n",
    "\n",
    "eventlog.rename(columns={'datetime': 'time:timestamp', 'patient': 'case:concept:name', 'action': 'concept:name', 'resource': 'org:resource'}, inplace=True)\n",
    "\n",
    "## Convert to log format\n",
    "log = log_converter.apply(eventlog)\n"
   ]
  },
  {
   "cell_type": "markdown",
   "metadata": {},
   "source": [
    "### Alpha miner"
   ]
  },
  {
   "cell_type": "code",
   "execution_count": null,
   "metadata": {},
   "outputs": [],
   "source": [
    "# alpha miner\n",
    "net, initial_marking, final_marking = alpha_miner.apply(log)\n",
    "\n",
    "# Visualise\n",
    "gviz = pn_visualizer.apply(net, initial_marking, final_marking)\n",
    "pn_visualizer.view(gviz)"
   ]
  },
  {
   "cell_type": "code",
   "execution_count": null,
   "metadata": {},
   "outputs": [],
   "source": [
    "# add information about frequency to the viz \n",
    "parameters = {pn_visualizer.Variants.FREQUENCY.value.Parameters.FORMAT: \"png\"}\n",
    "gviz = pn_visualizer.apply(net, initial_marking, final_marking, \n",
    "                           parameters=parameters, \n",
    "                           variant=pn_visualizer.Variants.FREQUENCY, \n",
    "                           log=log)\n",
    "\n",
    "# save the Petri net\n",
    "pn_visualizer.save(gviz, \"alpha_miner_healthcare_petri_net.png\")"
   ]
  },
  {
   "cell_type": "markdown",
   "metadata": {},
   "source": [
    "### Directly-follows graph"
   ]
  },
  {
   "cell_type": "code",
   "execution_count": null,
   "metadata": {},
   "outputs": [],
   "source": [
    "#Create graph from log\n",
    "dfg = dfg_discovery.apply(log)\n",
    "\n",
    "# viz\n",
    "gviz = dfg_visualization.apply(dfg, log=log, variant=dfg_visualization.Variants.FREQUENCY)\n",
    "dfg_visualization.view(gviz)"
   ]
  },
  {
   "cell_type": "markdown",
   "metadata": {},
   "source": [
    "With average times between nodes (performance)"
   ]
  },
  {
   "cell_type": "code",
   "execution_count": null,
   "metadata": {},
   "outputs": [],
   "source": [
    "# creatig the graph from log\n",
    "dfg = dfg_discovery.apply(log, variant=dfg_discovery.Variants.PERFORMANCE)\n",
    "\n",
    "# viz\n",
    "gviz = dfg_visualization.apply(dfg, log=log, variant=dfg_visualization.Variants.PERFORMANCE)\n",
    "dfg_visualization.view(gviz)"
   ]
  },
  {
   "cell_type": "markdown",
   "metadata": {},
   "source": [
    "### Heuristic miner"
   ]
  },
  {
   "cell_type": "code",
   "execution_count": null,
   "metadata": {},
   "outputs": [],
   "source": [
    "# heuristics miner\n",
    "heu_net = heuristics_miner.apply_heu(log)\n",
    "\n",
    "# viz\n",
    "gviz = hn_visualizer.apply(heu_net)\n",
    "hn_visualizer.view(gviz)"
   ]
  },
  {
   "cell_type": "markdown",
   "metadata": {},
   "source": [
    "Petri-net of heuristic miner output"
   ]
  },
  {
   "cell_type": "code",
   "execution_count": null,
   "metadata": {},
   "outputs": [],
   "source": [
    "# heuristics miner\n",
    "net, im, fm = heuristics_miner.apply(log)\n",
    "\n",
    "# viz\n",
    "gviz = pn_visualizer.apply(net, im, fm)\n",
    "gviz = pn_visualizer.apply(net, im, fm, \n",
    "                           parameters=parameters, \n",
    "                           variant=pn_visualizer.Variants.FREQUENCY, \n",
    "                           log=log)\n",
    "#pn_visualizer.view(gviz)\n",
    "pn_visualizer.view(gviz)"
   ]
  },
  {
   "cell_type": "markdown",
   "metadata": {},
   "source": [
    "### Inductive miner"
   ]
  },
  {
   "cell_type": "code",
   "execution_count": null,
   "metadata": {},
   "outputs": [],
   "source": [
    "# create the process tree\n",
    "tree = inductive_miner.apply_tree(log)\n",
    "\n",
    "# viz\n",
    "gviz = pt_visualizer.apply(tree)\n",
    "pt_visualizer.view(gviz)"
   ]
  },
  {
   "cell_type": "markdown",
   "metadata": {},
   "source": [
    "Petri-net of inductive miner output"
   ]
  },
  {
   "cell_type": "code",
   "execution_count": null,
   "metadata": {},
   "outputs": [],
   "source": [
    "# convert the process tree to a petri net\n",
    "#net, initial_marking, final_marking = pt_converter.apply(tree)\n",
    "\n",
    "\n",
    "# alternatively, use the inductive_miner to create a petri net from scratch\n",
    "net, initial_marking, final_marking = inductive_miner.apply(log)\n",
    "\n",
    "# viz\n",
    "parameters = {pn_visualizer.Variants.FREQUENCY.value.Parameters.FORMAT: \"png\"}\n",
    "gviz = pn_visualizer.apply(net, initial_marking, final_marking, \n",
    "                           parameters=parameters, \n",
    "                           variant=pn_visualizer.Variants.FREQUENCY, \n",
    "                           log=log)\n",
    "pn_visualizer.view(gviz)\n",
    "\n",
    "pn_visualizer.save(gviz, \"inductive_miner_healthcare_petri_net.png\")"
   ]
  },
  {
   "cell_type": "code",
   "execution_count": null,
   "metadata": {},
   "outputs": [],
   "source": [
    "#dir(net)"
   ]
  },
  {
   "cell_type": "code",
   "execution_count": null,
   "metadata": {},
   "outputs": [],
   "source": [
    "from pm4py.objects.petri import performance_map\n",
    "traces = performance_map.get_transition_performance_with_token_replay(log, net, initial_marking, final_marking)"
   ]
  },
  {
   "cell_type": "code",
   "execution_count": null,
   "metadata": {},
   "outputs": [],
   "source": [
    "#dir(traces)\n",
    "#traces"
   ]
  },
  {
   "cell_type": "markdown",
   "metadata": {},
   "source": [
    "### Time between second consultation and surgery\n",
    "* Mean in days\n",
    "* Minimum in hours\n",
    "* Maximum in days"
   ]
  },
  {
   "cell_type": "code",
   "execution_count": null,
   "metadata": {},
   "outputs": [],
   "source": [
    "surgery_time = traces['Surgery']['all_values']\n",
    "seconds_to_days = 60*60*24\n",
    "seconds_to_hours = 60*60\n",
    "printmd('**Mean time to surgery**: {:.0f} days'.format(np.mean(surgery_time)/seconds_to_days))\n",
    "printmd('**Max time to surgery**: {:.0f} days'.format(np.max(surgery_time)/seconds_to_days))\n",
    "printmd('**Min time to surgery**: {:.0f} days, i.e. {:.0f} hours'.format(np.min(surgery_time)/seconds_to_days, np.min(surgery_time)/seconds_to_hours))\n",
    "printmd('**Min time to surgery**: {:.0f} days, i.e. {:.3f} hours'.format(np.min(surgery_time)/seconds_to_days, np.min(surgery_time)/seconds_to_hours))\n",
    "printmd('**Mean time to surgery**: {:.0f} days, i.e. {:.3f} hours'.format(np.mean(surgery_time)/seconds_to_days, np.mean(surgery_time)/seconds_to_hours))\n",
    "printmd('**Max time to surgery**: {:.0f} days, i.e. {:.3f} hours'.format(np.max(surgery_time)/seconds_to_days, np.max(surgery_time)/seconds_to_hours))\n",
    "sns.distplot(surgery_time)"
   ]
  },
  {
   "cell_type": "markdown",
   "metadata": {},
   "source": [
    "## Social Networks\n",
    "\n",
    "* See [this guide](http://pm4py.pads.rwth-aachen.de/social-network-analysis/) on using pm4py to analyse social networks"
   ]
  },
  {
   "cell_type": "code",
   "execution_count": null,
   "metadata": {
    "scrolled": true
   },
   "outputs": [],
   "source": [
    "%matplotlib inline\n",
    "#!pip install pyvis\n",
    "from pm4py.visualization.sna import visualizer as sna_vis\n",
    "from pm4py.algo.enhancement.sna import factory as sna_factory\n",
    "import sys\n",
    "import networkx as nx\n",
    "from pyvis import network as net\n",
    "\n",
    "g = net.Network(notebook=True)\n",
    "\n",
    "\n",
    "print(dir(sna_vis))\n",
    "print(dir(sna_vis.networkx))\n",
    "handover_nw = sna_factory.log_handover.apply(log)\n",
    "gviz_hw_py = sna_vis.networkx.apply(handover_nw)\n",
    "#gnx = nx.Graph(gviz_hw_py)\n",
    "#g.from_nx(gnx)\n",
    "#g.show()\n",
    "sna_vis.networkx.view(gviz_hw_py)\n",
    "#handover_nw"
   ]
  },
  {
   "cell_type": "code",
   "execution_count": null,
   "metadata": {},
   "outputs": [],
   "source": [
    "handover_nw"
   ]
  },
  {
   "cell_type": "code",
   "execution_count": null,
   "metadata": {},
   "outputs": [],
   "source": []
  }
 ],
 "metadata": {
  "kernelspec": {
   "display_name": "Python 3",
   "language": "python",
   "name": "python3"
  },
  "language_info": {
   "codemirror_mode": {
    "name": "ipython",
    "version": 3
   },
   "file_extension": ".py",
   "mimetype": "text/x-python",
   "name": "python",
   "nbconvert_exporter": "python",
   "pygments_lexer": "ipython3",
   "version": "3.8.3"
  }
 },
 "nbformat": 4,
 "nbformat_minor": 2
}
